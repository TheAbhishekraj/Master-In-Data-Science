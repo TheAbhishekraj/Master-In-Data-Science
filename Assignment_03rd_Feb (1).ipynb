{
 "cells": [
  {
   "cell_type": "markdown",
   "id": "47289f4d-632f-4c3e-80f6-bdb562528736",
   "metadata": {},
   "source": [
    "#### Q1. Which keyword is used to create a function? Create a function to return a list of odd numbers in the range of 1 to 25."
   ]
  },
  {
   "cell_type": "code",
   "execution_count": 22,
   "id": "0cc80379-d76e-4a5e-98cc-6d077dbf46bc",
   "metadata": {},
   "outputs": [
    {
     "name": "stdout",
     "output_type": "stream",
     "text": [
      "[1, 3, 5, 7, 9, 11, 13, 15, 17, 19, 21, 23]\n"
     ]
    }
   ],
   "source": [
    "#### Answer : The def keyword is used to create, (or define) a function\n",
    "\n",
    "def OddNumber(n):\n",
    "    Odd_list = []\n",
    "    for i in range(1,n):\n",
    "          if i%2 != 0:\n",
    "            Odd_list.append(i)\n",
    "            i= i+1;\n",
    "    return Odd_list\n",
    "\n",
    "n=25\n",
    "print(OddNumber(n))\n"
   ]
  },
  {
   "cell_type": "code",
   "execution_count": 73,
   "id": "a463d606-e3d3-4979-81d4-0dd097d983ec",
   "metadata": {},
   "outputs": [
    {
     "name": "stdout",
     "output_type": "stream",
     "text": [
      "([1, 3, 5, 7, 9, 11, 13, 15, 17, 19, 21, 23], [2, 4, 6, 8, 10, 12, 14, 16, 18, 20, 22, 24])\n"
     ]
    }
   ],
   "source": [
    "# Practice Even,Odd, Prime\n",
    "def IdentifyNumber(n):\n",
    "    Odd_list = []\n",
    "    Even_list = []\n",
    "    Prime_list = []\n",
    "    for i in range(1,n):\n",
    "        \n",
    "        if i%2 != 0:\n",
    "            Odd_list.append(i)\n",
    "            \n",
    "        else:\n",
    "                if i%2 == 0:\n",
    "                    Even_list.append(i) \n",
    "        \n",
    "\n",
    "            \n",
    "    return Odd_list, Even_list\n",
    "\n",
    "n=25\n",
    "print(IdentifyNumber(n))\n",
    "\n"
   ]
  },
  {
   "cell_type": "code",
   "execution_count": 55,
   "id": "f1079671-9f1f-43d5-8e2a-8a80f6fa9a5b",
   "metadata": {},
   "outputs": [],
   "source": [
    "#Prime Number\n",
    "def PrimeNumber(num):\n",
    "    Prime_list = []\n",
    "    for i in range(2,num):\n",
    "        \n",
    "        for j in range(2,int(i/2)+1):\n",
    "            if i%j == 0: \n",
    "                break\n",
    "        else:\n",
    "            Prime_list.append(i)\n",
    "    return Prime_list"
   ]
  },
  {
   "cell_type": "code",
   "execution_count": 58,
   "id": "2a72bede-e6a8-4327-9f67-4fdf4812ada7",
   "metadata": {},
   "outputs": [
    {
     "data": {
      "text/plain": [
       "[2, 3, 5, 7, 11, 13, 17, 19, 23, 29, 31, 37, 41, 43, 47]"
      ]
     },
     "execution_count": 58,
     "metadata": {},
     "output_type": "execute_result"
    }
   ],
   "source": [
    "PrimeNumber(50)"
   ]
  },
  {
   "cell_type": "markdown",
   "id": "d3066cc0-ec50-4951-8eae-80c589ae88a3",
   "metadata": {},
   "source": [
    "\n",
    "#### Q2. Why *args and **kwargs is used in some functions? Create a function each for *args and **kwargs to \n",
    "demonstrate their use."
   ]
  },
  {
   "cell_type": "code",
   "execution_count": 75,
   "id": "aa1beb84-4638-4e58-8fc0-e2ce527e6431",
   "metadata": {},
   "outputs": [],
   "source": [
    "#### Answer : You can use *args and **kwargs as arguments of a function when you are unsure about the number of arguments to pass in the functions\n",
    "\n",
    "# Refer below examples\n"
   ]
  },
  {
   "cell_type": "code",
   "execution_count": 103,
   "id": "0246c5d0-2ff0-4055-a21c-56f26b7b366a",
   "metadata": {},
   "outputs": [
    {
     "data": {
      "text/plain": [
       "[(1, 2, 3, 4), (5, 6, 7)]"
      ]
     },
     "execution_count": 103,
     "metadata": {},
     "output_type": "execute_result"
    }
   ],
   "source": [
    "# Extract List function:\n",
    "def test1(*args):\n",
    "    l = []\n",
    "    for i in args:\n",
    "        if type(i) == tuple:\n",
    "            l.append(i)\n",
    "    return l\n",
    "\n",
    "test1(33,44,(1,2,3,4),22,(5,6,7), ['Abhi', 'Shik']) \n"
   ]
  },
  {
   "cell_type": "code",
   "execution_count": 84,
   "id": "8984b02f-fe82-4868-a372-0958cf6f0c0c",
   "metadata": {},
   "outputs": [
    {
     "name": "stdout",
     "output_type": "stream",
     "text": [
      "(5, <class 'tuple'>)\n",
      "(10, <class 'tuple'>)\n",
      "(17, <class 'tuple'>)\n",
      "(26, <class 'tuple'>)\n"
     ]
    }
   ],
   "source": [
    "#add Number\n",
    "\n",
    "def add(*numbers):\n",
    "    total = 0\n",
    "    for num in numbers:\n",
    "        total += num\n",
    "    return total,type(numbers)\n",
    "\n",
    "\n",
    "print(add(2, 3))\n",
    "print(add(2, 3, 5))\n",
    "print(add(2, 3, 5, 7))\n",
    "print(add(2, 3, 5, 7, 9))"
   ]
  },
  {
   "cell_type": "code",
   "execution_count": 78,
   "id": "b46fe1f9-072b-4fab-8bd0-0385435efeb9",
   "metadata": {},
   "outputs": [
    {
     "name": "stdout",
     "output_type": "stream",
     "text": [
      "{'banana': 5, 'mango': 7, 'apple': 8} <class 'dict'>\n"
     ]
    }
   ],
   "source": [
    "#Fruits\n",
    "\n",
    "def total_fruits(**kwargs):\n",
    "    print(kwargs, type(kwargs))\n",
    "\n",
    "\n",
    "total_fruits(banana=5, mango=7, apple=8)"
   ]
  },
  {
   "cell_type": "markdown",
   "id": "e9cf4d68-855d-4d19-b111-5cfae655b172",
   "metadata": {},
   "source": [
    "#### Q3 What is an iterator in python? Name the method used to initialise the iterator object and the method used for iteration.\n",
    "Use these methods to print the first five elements of the given list [2, 4, 6, 8, 10, 12, 14, 16, \n",
    "18, 20]."
   ]
  },
  {
   "cell_type": "markdown",
   "id": "5754955e-be18-4935-aa4e-2a597e91198b",
   "metadata": {},
   "source": [
    "#### Answer: Iterator in Python is an object that is used to iterate over iterable objects like lists, tuples, dicts, and sets. \n",
    "The iterator object is initialized using the iter() method. \n",
    "It uses the next() method for iteration. __next__(): The next method returns the next value for the iterable\n",
    "\n",
    "\n",
    "\n"
   ]
  },
  {
   "cell_type": "code",
   "execution_count": 199,
   "id": "c052daf8-7ead-4cfb-9ba2-ae82de78435a",
   "metadata": {},
   "outputs": [
    {
     "name": "stdout",
     "output_type": "stream",
     "text": [
      "2\n",
      "4\n",
      "6\n",
      "8\n",
      "10\n",
      "12\n"
     ]
    },
    {
     "data": {
      "text/plain": [
       "[2, 4, 6, 8, 10, 12]"
      ]
     },
     "execution_count": 199,
     "metadata": {},
     "output_type": "execute_result"
    }
   ],
   "source": [
    "# First five element\n",
    "my_list= [2, 4, 6, 8, 10, 12, 14, 16, 18, 20]\n",
    "N=6\n",
    "for i in range(N):\n",
    "    print(my_list[i])\n",
    "\n",
    "my_list[:6]"
   ]
  },
  {
   "cell_type": "markdown",
   "id": "1aee0e54-250e-47d3-a5d2-2ea3c252bb1b",
   "metadata": {},
   "source": [
    "#### Q.4 .What is a generator function in python? Why yield keyword is used? Give an example of a generator function.\n",
    "\n"
   ]
  },
  {
   "cell_type": "markdown",
   "id": "71320bd3-96f4-49ae-ab8e-92ab9aac915e",
   "metadata": {},
   "source": [
    "#### Answer: Generator functions are a special kind of function that return a lazy iterator called a generator iterator. These are objects that you can loop over like a list.\n",
    "The yield keyword pauses generator function execution and the value of the expression following the yield keyword is returned to the generator's calle"
   ]
  },
  {
   "cell_type": "code",
   "execution_count": 6,
   "id": "35f0d9c0-e00b-4d09-94d1-83a4b1c0e449",
   "metadata": {},
   "outputs": [
    {
     "name": "stdout",
     "output_type": "stream",
     "text": [
      "<class 'generator'>\n",
      "Hello world!!\n",
      "Welcome to Master in Data science Abhishek\n"
     ]
    }
   ],
   "source": [
    "#example\n",
    "def fun_generator():\n",
    "\tyield \"Hello world!!\"\n",
    "\tyield \"Welcome to Master in Data science Abhishek\"\n",
    "\n",
    "\n",
    "obj = fun_generator()\n",
    "\n",
    "print(type(obj))\n",
    "\n",
    "print(next(obj))\n",
    "print(next(obj))\n"
   ]
  },
  {
   "cell_type": "markdown",
   "id": "5ded2bbe-39e6-43f1-b8c4-cd25139e0c90",
   "metadata": {},
   "source": [
    "#### Q5. Create a generator function for prime numbers less than 1000. Use the next() method to print the first 20 prime numbers\n"
   ]
  },
  {
   "cell_type": "code",
   "execution_count": 60,
   "id": "95f931ec-56bb-4a0e-b6d6-fa5556ff070a",
   "metadata": {},
   "outputs": [
    {
     "name": "stdout",
     "output_type": "stream",
     "text": [
      "2\n",
      "3\n",
      "5\n",
      "7\n",
      "11\n",
      "13\n",
      "17\n",
      "19\n",
      "23\n",
      "29\n",
      "31\n",
      "37\n",
      "41\n",
      "43\n",
      "47\n",
      "53\n",
      "59\n",
      "61\n",
      "67\n",
      "71\n",
      "73\n"
     ]
    }
   ],
   "source": [
    "#Answer :\n",
    "\n",
    "#Prime Number using generator\n",
    "\n",
    "def Prime_Number(num):\n",
    "    for i in range(2,num):\n",
    "        \n",
    "        for j in range(2,int(i/2)+1):\n",
    "            if i%j == 0: \n",
    "                break\n",
    "        else:\n",
    "            yield i\n",
    "get_prime_number = Prime_Number(1000)  \n",
    "k = 0\n",
    "while k <= 20:\n",
    "    print(next(get_prime_number))\n",
    "    k +=1\n"
   ]
  },
  {
   "cell_type": "code",
   "execution_count": 46,
   "id": "912154dd-5c99-4087-9ace-4555f7ec191c",
   "metadata": {},
   "outputs": [],
   "source": []
  },
  {
   "cell_type": "code",
   "execution_count": 47,
   "id": "08b92844-bf9b-4755-9aeb-7bff65ec8a7e",
   "metadata": {},
   "outputs": [
    {
     "name": "stdout",
     "output_type": "stream",
     "text": [
      "2\n",
      "3\n",
      "5\n",
      "7\n",
      "11\n",
      "13\n",
      "17\n",
      "19\n",
      "23\n",
      "29\n",
      "31\n",
      "37\n",
      "41\n",
      "43\n",
      "47\n",
      "53\n",
      "59\n",
      "61\n",
      "67\n",
      "71\n",
      "73\n"
     ]
    }
   ],
   "source": [
    "\n"
   ]
  },
  {
   "cell_type": "code",
   "execution_count": null,
   "id": "9cc2f516-56e3-44ca-bb36-1b4094167475",
   "metadata": {},
   "outputs": [],
   "source": []
  },
  {
   "cell_type": "code",
   "execution_count": null,
   "id": "7d62bc82-3118-4f41-8a42-8380f9f5867a",
   "metadata": {},
   "outputs": [],
   "source": []
  }
 ],
 "metadata": {
  "kernelspec": {
   "display_name": "Python 3 (ipykernel)",
   "language": "python",
   "name": "python3"
  },
  "language_info": {
   "codemirror_mode": {
    "name": "ipython",
    "version": 3
   },
   "file_extension": ".py",
   "mimetype": "text/x-python",
   "name": "python",
   "nbconvert_exporter": "python",
   "pygments_lexer": "ipython3",
   "version": "3.10.8"
  }
 },
 "nbformat": 4,
 "nbformat_minor": 5
}
