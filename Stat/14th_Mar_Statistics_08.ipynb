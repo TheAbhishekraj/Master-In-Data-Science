{
 "cells": [
  {
   "cell_type": "code",
   "execution_count": null,
   "metadata": {},
   "outputs": [],
   "source": [
    "#### Q1. Write a Python function that takes in two arrays of data and calculates the F-value for a variance ratio\n",
    "test. The function should return the F-value and the corresponding p-value for the test."
   ]
  },
  {
   "cell_type": "code",
   "execution_count": 68,
   "metadata": {},
   "outputs": [
    {
     "name": "stdout",
     "output_type": "stream",
     "text": [
      "0.010464 0.00042400000000000017\n"
     ]
    },
    {
     "data": {
      "text/plain": [
       "(24.679245283018858, 0.004431318383760985)"
      ]
     },
     "execution_count": 68,
     "metadata": {},
     "output_type": "execute_result"
    }
   ],
   "source": [
    "#### Ans:\n",
    "\n",
    "import numpy as np\n",
    "import scipy.stats\n",
    "\n",
    "# Create data\n",
    "group1 = [0.28, 0.2, 0.26, 0.28, 0.5]\n",
    "group2 = [0.2, 0.23, 0.26, 0.21, 0.23]\n",
    "\n",
    "# converting the list to array\n",
    "x = np.array(group1)\n",
    "y = np.array(group2)\n",
    "\n",
    "# calculate variance of each group\n",
    "print(np.var(group1), np.var(group2))\n",
    "\n",
    "def f_test(group1, group2):\n",
    "\tf = np.var(group1, ddof=1)/np.var(group2, ddof=1)\n",
    "\tnun = x.size-1\n",
    "\tdun = y.size-1\n",
    "\tp_value = 1-scipy.stats.f.cdf(f, nun, dun)\n",
    "\treturn f, p_value\n",
    "\n",
    "# perform F-test\n",
    "f_test(group1, group2)\n"
   ]
  },
  {
   "attachments": {},
   "cell_type": "markdown",
   "metadata": {},
   "source": [
    "##### Q2. Given a significance level of 0.05 and the degrees of freedom for the numerator and denominator of an\n",
    "F-distribution, write a Python function that returns the critical F-value for a two-tailed test."
   ]
  },
  {
   "cell_type": "code",
   "execution_count": 3,
   "metadata": {},
   "outputs": [
    {
     "name": "stdout",
     "output_type": "stream",
     "text": [
      "6.22716116435764\n"
     ]
    }
   ],
   "source": [
    "##### Ans:\n",
    "\n",
    "# Importing library\n",
    "import scipy.stats\n",
    "\n",
    "# for a two tail test consider an alpha of 5%. This would be split to give two alpha values of 2.5% on either side of the distribution with an acceptance area in the middle of the distribution of 95%.\n",
    "# Determine the F critical value\n",
    "print(scipy.stats.f.ppf(q=1-(.05/2), dfn=4, dfd=6))\n",
    "\n"
   ]
  },
  {
   "attachments": {},
   "cell_type": "markdown",
   "metadata": {},
   "source": [
    "##### Q3. Write a Python program that generates random samples from two normal distributions with known\n",
    "variances and uses an F-test to determine if the variances are equal. The program should output the Fvalue, degrees of freedom, and p-value for the test."
   ]
  },
  {
   "cell_type": "code",
   "execution_count": 6,
   "metadata": {},
   "outputs": [
    {
     "name": "stdout",
     "output_type": "stream",
     "text": [
      "4.007937938363022 3.940705975133963\n"
     ]
    },
    {
     "data": {
      "text/plain": [
       "(1.017060893061623, 0.39462723781277464)"
      ]
     },
     "execution_count": 6,
     "metadata": {},
     "output_type": "execute_result"
    }
   ],
   "source": [
    "##### Ans:\n",
    "\n",
    "import numpy as np\n",
    "import scipy.stats\n",
    "\n",
    "# genereating the array\n",
    "x = np.random.normal(10, 2, 1000)\n",
    "y = np.random.normal(15, 2, 1000)\n",
    "\n",
    "\n",
    "# calculate variance of each group\n",
    "print(np.var(x), np.var(y))\n",
    "\n",
    "\n",
    "def f_test(group1, group2):\n",
    "    global nun,dun\n",
    "    f = np.var(group1, ddof=1)/np.var(group2, ddof=1)\n",
    "    nun = x.size-1\n",
    "    dun = y.size-1\n",
    "    p_value = 1-scipy.stats.f.cdf(f, nun, dun)\n",
    "    return f, p_value\n",
    "\n",
    "# perform F-test\n",
    "f_test(x, y)\n"
   ]
  },
  {
   "attachments": {},
   "cell_type": "markdown",
   "metadata": {},
   "source": [
    "##### Q4.The variances of two populations are known to be 10 and 15. A sample of 12 observations is taken from\n",
    "each population. Conduct an F-test at the 5% significance level to determine if the variances are\n",
    "significantly different.\n",
    "\n"
   ]
  },
  {
   "cell_type": "code",
   "execution_count": 11,
   "metadata": {},
   "outputs": [
    {
     "name": "stdout",
     "output_type": "stream",
     "text": [
      "F critical is: 1.1097461378149511\n",
      "F-value and P-value  0.6666666666666666 0.9999999999139766\n",
      "The Lower the F-value in an ANOVA, the lower the variation between sample means relative to the variation within the samples\n"
     ]
    }
   ],
   "source": [
    "##### Ans:\n",
    "import numpy as np\n",
    "import scipy.stats\n",
    "import math\n",
    "\n",
    "def f_test(var1,var2,size1,size2):\n",
    "\tf = var1/var2\n",
    "\tnun = x.size-1\n",
    "\tdun = y.size-1\n",
    "\tp_value = 1-scipy.stats.f.cdf(f, nun, dun)\n",
    "\treturn f, p_value\n",
    "# interpret p-value\n",
    "alpha = 0.05\n",
    "# perform F-test\n",
    "f,p_value  = f_test(10,15,12,12) \n",
    "print(\"F-value and P-value \", f,p_value)\n",
    "# F Critical value\n",
    "F_critical = scipy.stats.f.ppf(q=1-alpha, dfn=nun, dfd=dun)\n",
    "print(\"F critical is:\",F_critical)\n",
    "if p_value <= alpha:\n",
    "\tprint('Reject H0 of the ANOVA and conclude that there is a statistically significant difference between group mean')\n",
    "else:\n",
    "     if f > F_critical:\n",
    "        print('The higher the F-value in an ANOVA, the higher the variation between sample means relative to the variation within the samples.')\n",
    "     elif f <F_critical:\n",
    "         print('The Lower the F-value in an ANOVA, the lower the variation between sample means relative to the variation within the samples')\n",
    "     else:\n",
    "         print('The F-value in an ANOVA is one, the equal the variation between sample means relative to the variation within the samples')\n",
    " "
   ]
  },
  {
   "attachments": {},
   "cell_type": "markdown",
   "metadata": {},
   "source": [
    "##### Q5. A manufacturer claims that the variance of the diameter of a certain product is 0.005. A sample of 25\n",
    "products is taken, and the sample variance is found to be 0.006. Conduct an F-test at the 1% significance\n",
    "level to determine if the claim is justified."
   ]
  },
  {
   "cell_type": "code",
   "execution_count": 12,
   "metadata": {},
   "outputs": [
    {
     "name": "stdout",
     "output_type": "stream",
     "text": [
      "F-value and P-value  0.8333333333333334 0.9980027995191528\n",
      "F critical is: 1.1587109282209833\n",
      "The Lower the F-value in an ANOVA, the lower the variation between sample means relative to the variation within the samples\n"
     ]
    }
   ],
   "source": [
    "##### Ans:\n",
    "import numpy as np\n",
    "import scipy.stats\n",
    "import math\n",
    "\n",
    "def f_test(var1,var2,size1,size2):\n",
    "\tf = var1/var2\n",
    "\tnun = x.size-1\n",
    "\tdun = y.size-1\n",
    "\tp_value = 1-scipy.stats.f.cdf(f, nun, dun)\n",
    "\treturn f, p_value\n",
    "\n",
    "# interpret p-value\n",
    "alpha = 0.01\n",
    "# perform F-test\n",
    "f,p_value  = f_test(0.005,0.006,25,25) \n",
    "print(\"F-value and P-value \", f,p_value)\n",
    "F_critical = scipy.stats.f.ppf(q=1-alpha, dfn=nun, dfd=dun)\n",
    "print(\"F critical is:\",F_critical)\n",
    "if p_value <= alpha:\n",
    "\tprint('Reject H0 of the ANOVA and conclude that there is a statistically significant difference between group mean')\n",
    "else:\n",
    "     if f > F_critical:\n",
    "        print('The higher the F-value in an ANOVA, the higher the variation between sample means relative to the variation within the samples.')\n",
    "     elif f <F_critical:\n",
    "         print('The Lower the F-value in an ANOVA, the lower the variation between sample means relative to the variation within the samples')\n",
    "     else:\n",
    "         print('The F-value in an ANOVA is one, the equal the variation between sample means relative to the variation within the samples')\n",
    "\n"
   ]
  },
  {
   "attachments": {},
   "cell_type": "markdown",
   "metadata": {},
   "source": [
    "##### Q6. Write a Python function that takes in the degrees of freedom for the numerator and denominator of an\n",
    "F-distribution and calculates the mean and variance of the distribution. The function should return the\n",
    "mean and variance as a tuple\n"
   ]
  },
  {
   "cell_type": "code",
   "execution_count": 9,
   "metadata": {},
   "outputs": [
    {
     "data": {
      "text/plain": [
       "(1.0596135321228628, 0.18014941141090102)"
      ]
     },
     "execution_count": 9,
     "metadata": {},
     "output_type": "execute_result"
    }
   ],
   "source": [
    "##### Ans:\n",
    "\n",
    "\n",
    "import numpy as np\n",
    "import scipy.stats\n",
    "\n",
    "# genereating the array\n",
    "x = np.random.normal(20, 4, 1000)\n",
    "y = np.random.normal(30, 4, 1000)\n",
    "\n",
    "def f_test(group1, group2):\n",
    "\tf = np.var(group1, ddof=1)/np.var(group2, ddof=1)\n",
    "\tnun = x.size-1\n",
    "\tdun = y.size-1\n",
    "\tp_value = 1-scipy.stats.f.cdf(f, nun, dun)\n",
    "\treturn f, p_value\n",
    "\n",
    "# perform F-test\n",
    "f_test(x,y) "
   ]
  },
  {
   "cell_type": "markdown",
   "metadata": {},
   "source": []
  },
  {
   "attachments": {},
   "cell_type": "markdown",
   "metadata": {},
   "source": [
    "##### Q7. A random sample of 10 measurements is taken from a normal population with unknown variance. The\n",
    "sample variance is found to be 25. Another random sample of 15 measurements is taken from another\n",
    "normal population with unknown variance, and the sample variance is found to be 20. Conduct an F-test\n",
    "at the 10% significance level to determine if the variances are significantly different."
   ]
  },
  {
   "cell_type": "code",
   "execution_count": 10,
   "metadata": {},
   "outputs": [
    {
     "data": {
      "text/plain": [
       "(1.25, 0.0002142197208629959)"
      ]
     },
     "execution_count": 10,
     "metadata": {},
     "output_type": "execute_result"
    }
   ],
   "source": [
    "##### Ans:\n",
    "import numpy as np\n",
    "import scipy.stats\n",
    "import math\n",
    "\n",
    "def f_test(var1,var2,size1,size2):\n",
    "\tf = var1/var2\n",
    "\tnun = x.size-1\n",
    "\tdun = y.size-1\n",
    "\tp_value = 1-scipy.stats.f.cdf(f, nun, dun)\n",
    "\treturn f, p_value\n",
    "\n",
    "# perform F-test\n",
    "f_test(25,20,10,15) \n"
   ]
  },
  {
   "attachments": {},
   "cell_type": "markdown",
   "metadata": {},
   "source": [
    "##### Q8. The following data represent the waiting times in minutes at two different restaurants on a Saturday\n",
    "night: Restaurant A: 24, 25, 28, 23, 22, 20, 27; Restaurant B: 31, 33, 35, 30, 32, 36. Conduct an F-test at the 5%\n",
    "significance level to determine if the variances are significantly different."
   ]
  },
  {
   "cell_type": "code",
   "execution_count": 13,
   "metadata": {},
   "outputs": [
    {
     "name": "stdout",
     "output_type": "stream",
     "text": [
      "24.142857142857142 24.142857142857142\n",
      "6.6938775510204085 4.472222222222222\n",
      "F-value and P-value  1.4551907719609583 0.3487407873968742\n",
      "F critical is: 1.1097461378149511\n",
      "The higher the F-value in an ANOVA, the higher the variation between sample means relative to the variation within the samples.\n"
     ]
    }
   ],
   "source": [
    "\n",
    "#Ans:\n",
    "\n",
    "import numpy as np\n",
    "import scipy.stats\n",
    "import math\n",
    "\n",
    "# Create data\n",
    "group1 = [24, 25, 28, 23, 22, 20, 27]\n",
    "group2 = [31, 33, 35, 30, 32, 36]\n",
    "#Check Mean of both group\n",
    "print(np.mean(group1),np.mean(group1))\n",
    "# converting the list to array\n",
    "x = np.array(group1)\n",
    "y = np.array(group2)\n",
    "\n",
    "# calculate variance of each group\n",
    "print(np.var(group1), np.var(group2))\n",
    "\n",
    "def f_test(group1, group2):\n",
    "\tf = np.var(group1, ddof=1)/np.var(group2, ddof=1)\n",
    "\tnun = x.size-1\n",
    "\tdun = y.size-1\n",
    "\tp_value = 1-scipy.stats.f.cdf(f, nun, dun)\n",
    "\treturn f, p_value\n",
    "\n",
    "# interpret p-value\n",
    "alpha = 0.05\n",
    "# perform F-test\n",
    "f,p_value  = f_test(group1,group2)\n",
    "print(\"F-value and P-value \", f,p_value)\n",
    "F_critical = scipy.stats.f.ppf(q=1-alpha, dfn=nun, dfd=dun)\n",
    "print(\"F critical is:\",F_critical)\n",
    "if p_value <= alpha:\n",
    "\tprint('Reject H0 of the ANOVA and conclude that there is a statistically significant difference between group mean')\n",
    "else:\n",
    "     if f > F_critical:\n",
    "        print('The higher the F-value in an ANOVA, the higher the variation between sample means relative to the variation within the samples.')\n",
    "     elif f <F_critical:\n",
    "         print('The Lower the F-value in an ANOVA, the lower the variation between sample means relative to the variation within the samples')\n",
    "     else:\n",
    "         print('The F-value in an ANOVA is one, the equal the variation between sample means relative to the variation within the samples')\n",
    "\n"
   ]
  },
  {
   "attachments": {},
   "cell_type": "markdown",
   "metadata": {},
   "source": [
    "##### Q9. The following data represent the test scores of two groups of students: Group A: 80, 85, 90, 92, 87, 83;\n",
    "Group B: 75, 78, 82, 79, 81, 84. Conduct an F-test at the 1% significance level to determine if the variances\n",
    "are significantly different."
   ]
  },
  {
   "cell_type": "code",
   "execution_count": 14,
   "metadata": {},
   "outputs": [
    {
     "name": "stdout",
     "output_type": "stream",
     "text": [
      "24.142857142857142 24.142857142857142\n",
      "16.472222222222225 8.472222222222221\n",
      "F-value and P-value  1.9442622950819677 0.2415521774535344\n",
      "F critical is: 1.1587109282209833\n",
      "The higher the F-value in an ANOVA, the higher the variation between sample means relative to the variation within the samples.\n"
     ]
    }
   ],
   "source": [
    "##### Ans:\n",
    "\n",
    "import numpy as np\n",
    "import scipy.stats\n",
    "import math\n",
    "\n",
    "# Create data\n",
    "groupA = [80, 85, 90, 92, 87, 83]\n",
    "groupB = [75, 78, 82, 79, 81, 84]\n",
    "#Check Mean of both group\n",
    "print(np.mean(group1),np.mean(group1))\n",
    "# converting the list to array\n",
    "x = np.array(groupA)\n",
    "y = np.array(groupB)\n",
    "# calculate variance of each group\n",
    "print(np.var(groupA), np.var(groupB))\n",
    "\n",
    "def f_test(groupA,groupB):\n",
    "    f = np.var(groupA, ddof=1)/np.var(groupB, ddof=1)\n",
    "    nun = x.size-1\n",
    "    dun = y.size-1\n",
    "    p_value = 1-scipy.stats.f.cdf(f, nun, dun)\n",
    "    return (f, p_value)\n",
    "\n",
    "# interpret p-value\n",
    "alpha = 0.01\n",
    "# perform F-test\n",
    "f,p_value  = f_test(groupA,groupB)\n",
    "print(\"F-value and P-value \", f,p_value)\n",
    "F_critical = scipy.stats.f.ppf(q=1-alpha, dfn=nun, dfd=dun)\n",
    "print(\"F critical is:\",F_critical)\n",
    "if p_value <= alpha:\n",
    "\tprint('Reject H0 of the ANOVA and conclude that there is a statistically significant difference between group mean')\n",
    "else:\n",
    "     if f > F_critical:\n",
    "        print('The higher the F-value in an ANOVA, the higher the variation between sample means relative to the variation within the samples.')\n",
    "     elif f <F_critical:\n",
    "         print('The Lower the F-value in an ANOVA, the lower the variation between sample means relative to the variation within the samples')\n",
    "     else:\n",
    "         print('The F-value in an ANOVA is one, the equal the variation between sample means relative to the variation within the samples')\n",
    "\n"
   ]
  },
  {
   "cell_type": "code",
   "execution_count": null,
   "metadata": {},
   "outputs": [],
   "source": [
    "\n",
    "     \n",
    "\n",
    "\n",
    "     \n",
    "\n"
   ]
  },
  {
   "cell_type": "code",
   "execution_count": null,
   "metadata": {},
   "outputs": [],
   "source": []
  },
  {
   "cell_type": "code",
   "execution_count": null,
   "metadata": {},
   "outputs": [],
   "source": []
  }
 ],
 "metadata": {
  "kernelspec": {
   "display_name": "Python 3",
   "language": "python",
   "name": "python3"
  },
  "language_info": {
   "codemirror_mode": {
    "name": "ipython",
    "version": 3
   },
   "file_extension": ".py",
   "mimetype": "text/x-python",
   "name": "python",
   "nbconvert_exporter": "python",
   "pygments_lexer": "ipython3",
   "version": "3.11.3"
  },
  "orig_nbformat": 4
 },
 "nbformat": 4,
 "nbformat_minor": 2
}
