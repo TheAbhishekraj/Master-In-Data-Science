{
 "cells": [
  {
   "cell_type": "markdown",
   "id": "221581a6-a922-42b8-a340-fd6aaed6d687",
   "metadata": {},
   "source": [
    "#### Q1. Create a python program to sort the given list of tuples based on integer value using a lambda function. \n",
    "[('Sachin Tendulkar', 34357), ('Ricky Ponting', 27483), ('Jack Kallis', 25534), ('Virat Kohli', 24936)]\n"
   ]
  },
  {
   "cell_type": "code",
   "execution_count": 1,
   "id": "177d2d54-b0cf-4bf6-855e-481bb4103324",
   "metadata": {},
   "outputs": [
    {
     "name": "stdout",
     "output_type": "stream",
     "text": [
      "<class 'list'>\n",
      "<class 'dict'>\n",
      "The list printed sorting by run: \n",
      " {'Virat Kohli': 24936, 'Jack Kallis': 25534, 'Ricky Ponting': 27483, 'Sachin Tendulkar': 34357}\n"
     ]
    }
   ],
   "source": [
    "#### Answer: \n",
    "list1 =  [('Sachin Tendulkar', 34357), ('Ricky Ponting', 27483), ('Jack Kallis', 25534), ('Virat Kohli', 24936)]\n",
    "\n",
    "cricket = dict([('Sachin Tendulkar', 34357), ('Ricky Ponting', 27483), ('Jack Kallis', 25534), ('Virat Kohli', 24936)])\n",
    "\n",
    "print(type(list1))\n",
    "print(type(cricket))\n",
    "\n",
    "sort_cricket_run = dict(sorted(cricket.items(),key=lambda x:x[1]))\n",
    "print(\"The list printed sorting by run: \\n\" ,sort_cricket_run)\n",
    "\n"
   ]
  },
  {
   "cell_type": "markdown",
   "id": "9530e2e0-eeb4-4a1d-bb72-1a8aa2433742",
   "metadata": {},
   "source": [
    "#### Q2. Write a Python Program to find the squares of all the numbers in the given list of integers using lambda and map functions. \n",
    "[1, 2, 3, 4, 5, 6, 7, 8, 9, 10]"
   ]
  },
  {
   "cell_type": "code",
   "execution_count": 2,
   "id": "c3e4fd4c-8638-4dce-b70f-aed6eb4cce0e",
   "metadata": {},
   "outputs": [
    {
     "name": "stdout",
     "output_type": "stream",
     "text": [
      "[1, 4, 9, 16, 25, 36, 49, 64, 81, 100]\n"
     ]
    }
   ],
   "source": [
    "#### Answer: \n",
    "list2 = [1, 2, 3, 4, 5, 6, 7, 8, 9, 10]\n",
    "square_of_list = list(map(lambda x: x*x , list2))\n",
    "print(square_of_list)"
   ]
  },
  {
   "cell_type": "markdown",
   "id": "c14b6877-0709-445c-a93c-fe7cbbcca60c",
   "metadata": {},
   "source": [
    "#### Q3. Write a python program to convert the given list of integers into a tuple of strings. Use map and lambda functions\n",
    "Given String: [1, 2, 3, 4, 5, 6, 7, 8, 9, 10]\n",
    "\n",
    "Expected output: ('1', '2', '3', '4', '5', '6', '7', '8', '9', '10')"
   ]
  },
  {
   "cell_type": "code",
   "execution_count": 3,
   "id": "81c03f02-fc73-4c2b-821d-f498dd57368a",
   "metadata": {},
   "outputs": [
    {
     "name": "stdout",
     "output_type": "stream",
     "text": [
      "('1', '2', '3', '4', '5', '6', '7', '8', '9', '10')\n"
     ]
    }
   ],
   "source": [
    "#### Answer: \n",
    "\n",
    "list3 = [1, 2, 3, 4, 5, 6, 7, 8, 9, 10]\n",
    "tuple_of_string = tuple(map(lambda x: str(x) , list3))\n",
    "print(tuple_of_string)\n"
   ]
  },
  {
   "cell_type": "code",
   "execution_count": 4,
   "id": "583a9163-7bf8-4fa3-9122-49c28e90a712",
   "metadata": {},
   "outputs": [
    {
     "name": "stdout",
     "output_type": "stream",
     "text": [
      "1 <class 'str'>\n"
     ]
    }
   ],
   "source": [
    "#Hint\n",
    "a= [1,'a']\n",
    "b=str((a[0]))\n",
    "c= type(b)\n",
    "print(b,c)\n"
   ]
  },
  {
   "cell_type": "code",
   "execution_count": 5,
   "id": "c42f5a60-71b8-4ec4-8552-693631eaac97",
   "metadata": {},
   "outputs": [],
   "source": [
    "#### Q4.  Write a python program using reduce function to compute the product of a list containing numbers from 1 to 25."
   ]
  },
  {
   "cell_type": "code",
   "execution_count": 6,
   "id": "33d11583-7e44-49e8-82de-df4ced438707",
   "metadata": {},
   "outputs": [
    {
     "name": "stdout",
     "output_type": "stream",
     "text": [
      "620448401733239439360000\n"
     ]
    }
   ],
   "source": [
    "#### Answer: \n",
    "\n",
    "from functools import  reduce\n",
    "product_numbers = reduce(lambda x , y : x*y , range(1,25))\n",
    "print(product_numbers)\n"
   ]
  },
  {
   "cell_type": "markdown",
   "id": "4d609b7d-0bda-4333-8ecb-62c7642c43c2",
   "metadata": {},
   "source": [
    "#### Q5. Write a python program to filter the numbers in a given list that are divisible by 2 and 3 using the filter function.\n",
    "[2, 3, 6, 9, 27, 60, 90, 120, 55, 46"
   ]
  },
  {
   "cell_type": "code",
   "execution_count": 15,
   "id": "95ca0a5f-f9d0-4a50-a01b-a79bc990e503",
   "metadata": {},
   "outputs": [
    {
     "name": "stdout",
     "output_type": "stream",
     "text": [
      "[6, 60, 90, 120]\n"
     ]
    }
   ],
   "source": [
    "#### Answer:\n",
    "\n",
    "list5 = [2, 3, 6, 9, 27, 60, 90, 120, 55, 46]\n",
    "divisible_list = list(filter(lambda x : x % 2 ==0 and x % 3 ==0 , list5))\n",
    "print(divisible_list)"
   ]
  },
  {
   "cell_type": "markdown",
   "id": "d4aa2363-7821-4213-9d0a-4854f7894fc8",
   "metadata": {},
   "source": [
    "#### Q.6. Write a python program to find palindromes in the given list of strings using lambda and filter function.\n",
    "['python', 'php', 'aba', 'radar', 'level']"
   ]
  },
  {
   "cell_type": "code",
   "execution_count": 101,
   "id": "889fc725-d18f-407f-990f-beadf66bee9a",
   "metadata": {},
   "outputs": [
    {
     "name": "stdout",
     "output_type": "stream",
     "text": [
      "['php', 'aba', 'radar', 'level']\n"
     ]
    }
   ],
   "source": [
    " #### Answer\n",
    "\n",
    "list6 = ['python', 'php', 'aba', 'radar', 'level' , 'Abhi']\n",
    "\n",
    "Pallindrome_check= list(filter(lambda x :x == \"\".join(reversed(x)),list6))\n",
    "print(\"\\nList of palindromes:\")\n",
    "print(Pallindrome_check)\n",
    "\n"
   ]
  },
  {
   "cell_type": "code",
   "execution_count": 90,
   "id": "68ad9203-a281-420b-ae50-4c3f3918f59b",
   "metadata": {},
   "outputs": [
    {
     "data": {
      "text/plain": [
       "'nohtyp'"
      ]
     },
     "execution_count": 90,
     "metadata": {},
     "output_type": "execute_result"
    }
   ],
   "source": [
    "list6[0][::-1]\n"
   ]
  },
  {
   "cell_type": "code",
   "execution_count": 89,
   "id": "16ffbf0d-5da3-4596-9d61-4bc06f53687b",
   "metadata": {},
   "outputs": [
    {
     "name": "stdout",
     "output_type": "stream",
     "text": [
      "True python is a Pallindrome\n",
      "True php is a Pallindrome\n",
      "True aba is a Pallindrome\n",
      "True radar is a Pallindrome\n",
      "True level is a Pallindrome\n",
      "True Abhi is a Pallindrome\n"
     ]
    }
   ],
   "source": [
    "list6[0]\n",
    "i = 0\n",
    "while i< len(list6):\n",
    "    \n",
    "    if list6[i] == Pallindrome_check[i]:\n",
    "        print(\"True {} is a Pallindrome\".format(list6[i]))\n",
    "        \n",
    "    else:\n",
    "        print(\"False {} is not a Pallindrome\".format(list6[i]))\n",
    "    i +=1\n",
    "        "
   ]
  },
  {
   "cell_type": "code",
   "execution_count": null,
   "id": "25559f0b-49b1-48f6-811b-3da07fe0c9ae",
   "metadata": {},
   "outputs": [],
   "source": []
  }
 ],
 "metadata": {
  "kernelspec": {
   "display_name": "Python 3 (ipykernel)",
   "language": "python",
   "name": "python3"
  },
  "language_info": {
   "codemirror_mode": {
    "name": "ipython",
    "version": 3
   },
   "file_extension": ".py",
   "mimetype": "text/x-python",
   "name": "python",
   "nbconvert_exporter": "python",
   "pygments_lexer": "ipython3",
   "version": "3.10.8"
  }
 },
 "nbformat": 4,
 "nbformat_minor": 5
}
