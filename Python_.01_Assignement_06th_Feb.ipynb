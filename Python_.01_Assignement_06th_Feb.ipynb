{
 "cells": [
  {
   "cell_type": "code",
   "execution_count": 1,
   "id": "585f7550-4685-40d4-ac15-ca2e4bc7632e",
   "metadata": {},
   "outputs": [],
   "source": [
    "#### Q1. Create a function which will take a list as an argument and return the product of all the numbers after creating a flat list.\n",
    "# Use the below-given list as an argument for your function.\n",
    "\n",
    "list1 = [1,2,3,4, [44,55,66, True], False, (34,56,78,89,34), {1,2,3,3,2,1}, {1:34, \"key2\": [55, 67, 78, 89], 4: (45, 22, 61, 34)}, [56, 'data science'], 'Machine Learning']"
   ]
  },
  {
   "cell_type": "code",
   "execution_count": 2,
   "id": "5203a4e3-086d-4437-801c-25135bf8c364",
   "metadata": {},
   "outputs": [
    {
     "name": "stdout",
     "output_type": "stream",
     "text": [
      "check the type  in the given list :\n",
      "\n",
      "<class 'int'>\n",
      "<class 'int'>\n",
      "<class 'int'>\n",
      "<class 'int'>\n",
      "<class 'list'>\n",
      "<class 'bool'>\n",
      "<class 'tuple'>\n",
      "<class 'set'>\n",
      "<class 'dict'>\n",
      "<class 'list'>\n",
      "<class 'str'>\n",
      " flat list given below and the product is :\n",
      "\n"
     ]
    },
    {
     "data": {
      "text/plain": [
       "([1,\n",
       "  2,\n",
       "  3,\n",
       "  4,\n",
       "  44,\n",
       "  55,\n",
       "  66,\n",
       "  34,\n",
       "  56,\n",
       "  78,\n",
       "  89,\n",
       "  34,\n",
       "  1,\n",
       "  2,\n",
       "  3,\n",
       "  1,\n",
       "  4,\n",
       "  34,\n",
       "  55,\n",
       "  67,\n",
       "  78,\n",
       "  89,\n",
       "  45,\n",
       "  22,\n",
       "  61,\n",
       "  34,\n",
       "  56],\n",
       " 4134711838987085478833841242112000)"
      ]
     },
     "execution_count": 2,
     "metadata": {},
     "output_type": "execute_result"
    }
   ],
   "source": [
    "#### Answer:\n",
    "### Abreviation\n",
    "# p = Product ,d= flat_list\n",
    "\n",
    "list1 = [1,2,3,4, [44,55,66, True], False, (34,56,78,89,34), {1,2,3,3,2,1}, {1:34, \"key2\": [55, 67, 78, 89], 4: (45, 22, 61, 34)}, [56, 'data science'], 'Machine Learning']\n",
    "\n",
    "def product_list(list1):\n",
    "    p = 1\n",
    "    d = []\n",
    "    print(\"check the type  in the given list :\\n\")\n",
    "    for i in list1:\n",
    "        print(type(i))\n",
    "        if type(i) == dict :\n",
    "            for j in i.keys():\n",
    "                if type(j) == list or type(j) == tuple :\n",
    "                    for k in j:\n",
    "                        if type(k) == int or type(k) == float :\n",
    "                            d.append(k)\n",
    "                else:\n",
    "                     if type(j) == int or type(j) == float :\n",
    "                            d.append(j)\n",
    "            for j in i.values():\n",
    "                if type(j) == list or type(j) == tuple :\n",
    "                    for k in j:\n",
    "                        if type(k) == int or type(k) == float :\n",
    "                            d.append(k)\n",
    "                else:\n",
    "                     if type(j) == int or type(j) == float :\n",
    "                            d.append(j)\n",
    "        elif type(i) == list or type(i) == tuple :\n",
    "                    for j in i:\n",
    "                        if type(j) == int or type(j) == float :\n",
    "                            d.append(j)\n",
    "        elif type(i) == set :\n",
    "                    for j in i:\n",
    "                        if type(j) == int or type(j) == float :\n",
    "                            d.append(j)\n",
    "        else:\n",
    "             if type(i) == int or type(i) == float :\n",
    "                            d.append(i)\n",
    "    print(\" flat list given below and the product is :\\n\")\n",
    "    for i in list(d) :\n",
    "        p=p*i\n",
    "    return (d,p)\n",
    "\n",
    "product_list(list1)\n",
    "    \n"
   ]
  },
  {
   "cell_type": "code",
   "execution_count": 3,
   "id": "4ea68953-c43a-444f-ac64-07109c19a016",
   "metadata": {},
   "outputs": [
    {
     "name": "stdout",
     "output_type": "stream",
     "text": [
      "check the type  in the given list :\n",
      "\n",
      "<class 'int'>\n",
      "<class 'int'>\n",
      "<class 'int'>\n",
      "<class 'int'>\n",
      "<class 'list'>\n",
      "<class 'bool'>\n",
      "<class 'tuple'>\n",
      "<class 'set'>\n",
      "<class 'dict'>\n",
      "<class 'list'>\n",
      "<class 'str'>\n",
      " flat list given below and the product is :\n",
      "\n"
     ]
    },
    {
     "data": {
      "text/plain": [
       "([1,\n",
       "  2,\n",
       "  3,\n",
       "  4,\n",
       "  44,\n",
       "  55,\n",
       "  66,\n",
       "  34,\n",
       "  56,\n",
       "  78,\n",
       "  89,\n",
       "  34,\n",
       "  1,\n",
       "  2,\n",
       "  3,\n",
       "  1,\n",
       "  4,\n",
       "  34,\n",
       "  55,\n",
       "  67,\n",
       "  78,\n",
       "  89,\n",
       "  45,\n",
       "  22,\n",
       "  61,\n",
       "  34,\n",
       "  56],\n",
       " 4134711838987085478833841242112000)"
      ]
     },
     "execution_count": 3,
     "metadata": {},
     "output_type": "execute_result"
    }
   ],
   "source": [
    "product_list(list1)"
   ]
  },
  {
   "cell_type": "markdown",
   "id": "d84bd281-f5a3-495d-a5b8-58d540e5fd75",
   "metadata": {},
   "source": [
    "#### Q2. Write a python program for encrypting a message sent to you by your friend. The logic of encryption should be such that, for a the output should be z. For b, the output should be y. For c, the output should be x respectively. Also, the whitespace should be replaced with a dollar sign. Keep the punctuation marks unchanged.\n",
    "##### Input Sentence: I want to become a Data Scientist.Encrypt the above input sentence using the program you just created.\n",
    "##### Note: Convert the given input sentence into lowercase before encrypting. The final output should be lowercase"
   ]
  },
  {
   "cell_type": "code",
   "execution_count": 19,
   "id": "e222fe6a-7751-4fd3-84de-5c2fa84820d1",
   "metadata": {},
   "outputs": [
    {
     "name": "stdout",
     "output_type": "stream",
     "text": [
      "r$dzmg$gl$yvxlnv$z$wzgz$hxrvmgrhg."
     ]
    }
   ],
   "source": [
    "import string\n",
    "\n",
    "list_alphabet = list(string.ascii_lowercase)\n",
    "  \n",
    "# Create an input field\n",
    "input_message = \"I want to become a Data Scientist.\"\n",
    "encrypt = input_message.lower()\n",
    "# Reverse the string\n",
    "str = encrypt\n",
    "ch = \"\"\n",
    "\n",
    "for i in range(0,(len(str))):\n",
    "    if str[i] == \" \" :\n",
    "        print(\"$\", end= \"\")\n",
    "    elif str[i] == \".\" :\n",
    "        print(str[i], end= \"\")\n",
    "    else:\n",
    "        ch = chr(ord('z') -ord(str[i]) + ord('a'))\n",
    "        print(ch, end= \"\")\n",
    "    i +=1\n"
   ]
  },
  {
   "cell_type": "code",
   "execution_count": null,
   "id": "95d2c87b-b329-4ed1-8019-4df2b7ade4b3",
   "metadata": {},
   "outputs": [],
   "source": []
  },
  {
   "cell_type": "code",
   "execution_count": null,
   "id": "3ee88dc6-41ed-4125-90de-6b563103cd46",
   "metadata": {},
   "outputs": [],
   "source": []
  },
  {
   "cell_type": "code",
   "execution_count": null,
   "id": "b52512a9-c7c8-4c9a-ae6e-a38d91065021",
   "metadata": {},
   "outputs": [],
   "source": []
  },
  {
   "cell_type": "code",
   "execution_count": null,
   "id": "25039957-16e6-4dcb-8015-ff0b8725ec75",
   "metadata": {},
   "outputs": [],
   "source": []
  },
  {
   "cell_type": "code",
   "execution_count": null,
   "id": "25550639-f30f-4398-b01e-44efd16fb635",
   "metadata": {},
   "outputs": [],
   "source": []
  },
  {
   "cell_type": "code",
   "execution_count": null,
   "id": "2c834566-8329-4fe5-aadb-35a78f19c10c",
   "metadata": {},
   "outputs": [],
   "source": []
  }
 ],
 "metadata": {
  "kernelspec": {
   "display_name": "Python 3 (ipykernel)",
   "language": "python",
   "name": "python3"
  },
  "language_info": {
   "codemirror_mode": {
    "name": "ipython",
    "version": 3
   },
   "file_extension": ".py",
   "mimetype": "text/x-python",
   "name": "python",
   "nbconvert_exporter": "python",
   "pygments_lexer": "ipython3",
   "version": "3.10.8"
  }
 },
 "nbformat": 4,
 "nbformat_minor": 5
}
