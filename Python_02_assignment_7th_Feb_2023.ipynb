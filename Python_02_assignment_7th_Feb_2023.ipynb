{
 "cells": [
  {
   "cell_type": "markdown",
   "id": "c88a1623-4878-493d-a098-4bb87e57c349",
   "metadata": {},
   "source": [
    "##### Q1. You are writing code for a company. The requirement of the company is that you create a pythonfunction that will check whether the password entered by the user is correct or not. The function shouldtake the password as input and return the string “Valid Password” if the entered password follows thebelow-given password guidelines else it should return “Invalid Password”.Note: \n",
    "1. The Password should contain at least two uppercase letters and at least two lowercase letters.\n",
    "2. The Password should contain at least a number and three special characters.\n",
    "3. The length of the password should be 10 characters long."
   ]
  },
  {
   "cell_type": "code",
   "execution_count": 1,
   "id": "fe435337-dec8-4ce7-8ab3-e8ec7d93688c",
   "metadata": {},
   "outputs": [
    {
     "name": "stdin",
     "output_type": "stream",
     "text": [
      "Enter the password :  Abhi@#$123\n"
     ]
    },
    {
     "name": "stdout",
     "output_type": "stream",
     "text": [
      "3 1 3 3\n",
      "The password you have entered is a Valid Password\n"
     ]
    }
   ],
   "source": [
    "# Function to validate the password\n",
    "user_input = input(\"Enter the password : \")\n",
    "s = user_input\n",
    "def password_check(s):\n",
    "    l, u, p, d = 0, 0, 0, 0 \n",
    "    if (len(s) == 10):\n",
    "        for i in s:\n",
    "\n",
    "        # counting lowercase alphabets\n",
    "            if (i.islower()):\n",
    "                l+=1\n",
    "\n",
    "        # counting uppercase alphabets\n",
    "            elif (i.isupper()):\n",
    "                u+=1\n",
    "\n",
    "        # counting digits\n",
    "            elif (i.isdigit()):\n",
    "                d+=1\n",
    "\n",
    "        # counting the mentioned special characters\n",
    "            else:\n",
    "                p+=1\n",
    "    print(l, u, p, d)\n",
    "    if (l>=1 and u>=1 and p>=1 and d>=1 and l+p+u+d==len(s)):\n",
    "        print(\"The password you have entered is a Valid Password\")\n",
    "    else:\n",
    "        print(\"The password you have entered is a invalid Password\")\n",
    "password_check(s)\n"
   ]
  },
  {
   "cell_type": "markdown",
   "id": "9ab50b35-1757-47fc-ac39-303aec920b4f",
   "metadata": {},
   "source": [
    "##### Q2. Solve the below-given questions using at least one of the following\n",
    "        1. Lambda functioJ\n",
    "        2. Filter functioJ\n",
    "        3. Zap functioJ\n",
    "        4. List Comprehension\n",
    "        \n",
    "1. Check if the string starts with a particular letter.\n",
    "2. Check if the string is numeric.\n",
    "3. Sort a list of tuples having fruit names and their quantity. [(\"mango\",99),(\"orange\",80), (\"grapes\", 1000)]\n",
    "4.  Find the squares of numbers from 1 to 10Y\n",
    "5.  Find the cube root of numbers from 1 to 10Y\n",
    "6.  Check if a given number is evenY\n",
    "7. Filter odd numbers from the given list. [1,2,3,4,5,6,7,8,9,10]\n",
    "8. Sort a list of integers into positive and negative integers lists. [1,2,3,4,5,6,-1,-2,-3,-4,-5,0]"
   ]
  },
  {
   "cell_type": "code",
   "execution_count": 2,
   "id": "1868b3c1-d627-46c7-8953-e5e3adcbbd38",
   "metadata": {},
   "outputs": [],
   "source": [
    "# Check if the string starts with a particular letter."
   ]
  },
  {
   "cell_type": "code",
   "execution_count": 3,
   "id": "1f030de4-ec54-405f-94c6-2042af55d8f3",
   "metadata": {},
   "outputs": [
    {
     "name": "stdout",
     "output_type": "stream",
     "text": [
      " String starts with a or s\n",
      " String does not starts with a or s\n",
      " String starts with a or s\n",
      " String starts with a or s\n",
      "Using map:  [True, False, True, True]\n",
      "Using Filter:  ['abhi', 'shikha', 'solanki']\n"
     ]
    }
   ],
   "source": [
    "\n",
    "s = 'abhishek'\n",
    "l = [ \"abhi\", \"raj\" ,\"shikha\",\"solanki\"]\n",
    "\n",
    "for i in l:\n",
    "    if i[0] == 'a' or i[0] == 's':\n",
    "         print(\" String starts with a or s\")\n",
    "    else :\n",
    "        print(\" String does not starts with a or s\")\n",
    "        \n",
    "# using map function\n",
    "\n",
    "a = list(map(lambda x : True if x[0] == 'a' or x[0] == 's' else False , l ))\n",
    "print(\"Using map: \",a)\n",
    "        \n",
    "# using filter function\n",
    "b = list(filter(lambda x : True if x[0] == 'a' or x[0] == 's' else False , l ))\n",
    "print(\"Using Filter: \",b)\n",
    "\n"
   ]
  },
  {
   "cell_type": "code",
   "execution_count": 4,
   "id": "485ea539-6d7e-4134-87c9-5a3948d8c133",
   "metadata": {},
   "outputs": [
    {
     "name": "stdout",
     "output_type": "stream",
     "text": [
      "abhi : String is not numeric\n",
      "raj : String is not numeric\n",
      "shikha : String is not numeric\n",
      "solanki : String is not numeric\n",
      "2 : String is numeric\n",
      "3 : String is numeric\n",
      "Using map:  [False, False, False, False, '2', '3']\n",
      "Using Filter:  ['2', '3']\n"
     ]
    }
   ],
   "source": [
    "# Check if the string is numeric.\n",
    "\n",
    "l1 = l = [ \"abhi\", \"raj\" ,\"shikha\",\"solanki\" ,'2','3']\n",
    "\n",
    "for i in l1:\n",
    "    if i.isnumeric() :\n",
    "         print(f\"{i} : String is numeric\")\n",
    "    else :\n",
    "        print(f\"{i} : String is not numeric\")\n",
    "        \n",
    "# using map function\n",
    "\n",
    "a1 = list(map(lambda x : x if x.isnumeric() else False , l1 ))\n",
    "print(\"Using map: \",a1)\n",
    "# using reduce function\n",
    "b1 =list(filter(lambda x : x if x.isnumeric() else False , l1 ))\n",
    "print(\"Using Filter: \",b1)\n",
    "\n"
   ]
  },
  {
   "cell_type": "code",
   "execution_count": 5,
   "id": "3a122372-164e-416c-bd8c-4149baed75ab",
   "metadata": {},
   "outputs": [
    {
     "name": "stdout",
     "output_type": "stream",
     "text": [
      "[('grapes', 1000), ('mango', 99), ('orange', 80)]\n"
     ]
    }
   ],
   "source": [
    "# Sort a list of tuples having fruit names and their quantity. [(\"mango\",99),(\"orange\",80), (\"grapes\", 1000)\n",
    "\n",
    "tup = [(\"mango\",99),(\"orange\",80), (\"grapes\", 1000)]\n",
    "\n",
    "def sort(tup):\n",
    "    return sorted(tup)\n",
    "\n",
    "print(sort(tup))\n"
   ]
  },
  {
   "cell_type": "code",
   "execution_count": 6,
   "id": "426d6ed1-a597-43f3-ae62-4338dcddaab4",
   "metadata": {},
   "outputs": [
    {
     "name": "stdout",
     "output_type": "stream",
     "text": [
      "Using map:  [1, 4, 9, 16, 25, 36, 49, 64, 81, 100]\n"
     ]
    }
   ],
   "source": [
    "#Find the squares of numbers from 1 to 10.\n",
    "\n",
    "# using map function\n",
    "s1 = list(map(lambda x : x**2 ,range(1,11) ))\n",
    "print(\"Using map: \",s1)"
   ]
  },
  {
   "cell_type": "code",
   "execution_count": 7,
   "id": "fcbc5f25-fae6-4538-9662-6383f841ef84",
   "metadata": {},
   "outputs": [
    {
     "name": "stdout",
     "output_type": "stream",
     "text": [
      "Using map:  [1.0, 1.2599210498948732, 1.4422495703074083, 1.5874010519681994, 1.7099759466766968, 1.8171205928321397, 1.912931182772389, 2.0, 2.080083823051904, 2.154434690031884]\n"
     ]
    }
   ],
   "source": [
    "#Find the cubes of numbers from 1 to 10.\n",
    "\n",
    "# using map function\n",
    "s1 = list(map(lambda x : x**(1/3) ,range(1,11) ))\n",
    "print(\"Using map: \",s1)\n",
    "\n",
    "#another method\n",
    "\n"
   ]
  },
  {
   "cell_type": "code",
   "execution_count": 8,
   "id": "67ebe0b1-1876-4570-9bd9-4ac5767a6700",
   "metadata": {},
   "outputs": [
    {
     "name": "stdin",
     "output_type": "stream",
     "text": [
      "Enter the number :  1234\n"
     ]
    },
    {
     "name": "stdout",
     "output_type": "stream",
     "text": [
      "The Entered number 1234 is EVEN\n"
     ]
    }
   ],
   "source": [
    "# Check if a given number is even.\n",
    "\n",
    "num = int(input(\"Enter the number : \"))\n",
    "# using  function\n",
    "def even_num(num):\n",
    "        if num%2 == 0:\n",
    "               print(f\"The Entered number {num} is EVEN\")\n",
    "        else:\n",
    "            print(f\"The Entered number {num} is NOT EVEN\")\n",
    "\n",
    "even_num(num)"
   ]
  },
  {
   "cell_type": "code",
   "execution_count": 9,
   "id": "c9602f9c-21b9-419c-bb34-a6023b485240",
   "metadata": {},
   "outputs": [
    {
     "name": "stdout",
     "output_type": "stream",
     "text": [
      "Using Filter:  [1, 3, 5, 7, 9]\n"
     ]
    }
   ],
   "source": [
    "# Filter odd numbers from the given list.[1,2,3,4,5,6,7,8,9,10]. \n",
    "l2 = [1,2,3,4,5,6,7,8,9,10]\n",
    "\n",
    "# using filter function\n",
    "b =list(filter(lambda x : x % 2 !=0 , l2))\n",
    "print(\"Using Filter: \",b)\n"
   ]
  },
  {
   "cell_type": "code",
   "execution_count": 10,
   "id": "1d3b432e-a9fc-4353-8a67-37ffc919cc38",
   "metadata": {},
   "outputs": [
    {
     "name": "stdout",
     "output_type": "stream",
     "text": [
      "Using Filter:  [1, 2, 3, 4, 5, 6, -1, -2, -3, -4, -5]\n"
     ]
    }
   ],
   "source": [
    "# Sort a list of integers into positive and negative integers lists.\n",
    "l3 = [1,2,3,4,5,6,-1,-2,-3,-4,-5,0]\n",
    "# using filter function\n",
    "b =list(filter(lambda x : x if x >=0 else x , l3))\n",
    "print(\"Using Filter: \",b)\n"
   ]
  },
  {
   "cell_type": "code",
   "execution_count": null,
   "id": "14c045cd-f178-42e7-ace3-ef8d479e18b6",
   "metadata": {},
   "outputs": [],
   "source": []
  }
 ],
 "metadata": {
  "kernelspec": {
   "display_name": "Python 3 (ipykernel)",
   "language": "python",
   "name": "python3"
  },
  "language_info": {
   "codemirror_mode": {
    "name": "ipython",
    "version": 3
   },
   "file_extension": ".py",
   "mimetype": "text/x-python",
   "name": "python",
   "nbconvert_exporter": "python",
   "pygments_lexer": "ipython3",
   "version": "3.10.8"
  }
 },
 "nbformat": 4,
 "nbformat_minor": 5
}
