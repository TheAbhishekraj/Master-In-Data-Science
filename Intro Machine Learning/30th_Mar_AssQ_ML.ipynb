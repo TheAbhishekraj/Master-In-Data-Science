{
 "cells": [
  {
   "cell_type": "code",
   "execution_count": 2,
   "metadata": {},
   "outputs": [],
   "source": [
    "#### Q1. What is Elastic Net Regression and how does it differ from other regression techniques?"
   ]
  },
  {
   "attachments": {},
   "cell_type": "markdown",
   "metadata": {},
   "source": [
    "#### Ans: \n",
    "Elastic net regression is a linear regression technique that uses a penalty term to shrink the coefficients of the predictors. The penalty term is a combination of the l1-norm (absolute value) and the l2-norm (square) of the coefficients, weighted by a parameter called alpha. The l1-norm penalty is similar to lasso, which tends to produce sparse solutions by setting some coefficients to zero. The l2-norm penalty is similar to ridge, which tends to reduce the variance of the coefficients by shrinking them towards zero."
   ]
  },
  {
   "attachments": {},
   "cell_type": "markdown",
   "metadata": {},
   "source": [
    "#### Q2. How do you choose the optimal values of the regularization parameters for Elastic Net Regression?"
   ]
  },
  {
   "attachments": {},
   "cell_type": "markdown",
   "metadata": {},
   "source": [
    "##### Q3. What are the advantages and disadvantages of Elastic Net Regression?"
   ]
  },
  {
   "attachments": {},
   "cell_type": "markdown",
   "metadata": {},
   "source": [
    "#### Ans: \n",
    "\n",
    "Advantages of elastic net regression\n",
    "\n",
    "Elastic net regression has several advantages over lasso and ridge regression, depending on the data and the problem. For instance, it can handle multicollinearity better than lasso regression by grouping correlated features and selecting the most representative ones. Additionally, it can reduce model complexity by eliminating irrelevant features, which is more effective than ridge regression. Moreover, elastic net regression can achieve a better trade-off between bias and variance than lasso and ridge regression by tuning the regularization parameters. Furthermore, this type of regression can be applied to various types of data, such as linear, logistic, or Cox regression models.\n",
    "\n",
    "Disadvantages of elastic net regression\n",
    "\n",
    "Elastic net regression has some drawbacks compared to lasso and ridge regression, such as requiring more computational resources and time due to two regularization parameters and a cross-validation process. It may not perform optimally when there is no correlation between features or when the number of features is much smaller than the number of observations, as it may lose predictive power or introduce bias. Additionally, it may not be easily interpretable, as it could select a large number of features with small coefficients or a small number of features with large coefficient"
   ]
  },
  {
   "attachments": {},
   "cell_type": "markdown",
   "metadata": {},
   "source": [
    "#### Q4. What are some common use cases for Elastic Net Regression?"
   ]
  },
  {
   "attachments": {},
   "cell_type": "markdown",
   "metadata": {},
   "source": []
  },
  {
   "attachments": {},
   "cell_type": "markdown",
   "metadata": {},
   "source": [
    "#### Q5. How do you interpret the coefficients in Elastic Net Regression?"
   ]
  },
  {
   "attachments": {},
   "cell_type": "markdown",
   "metadata": {},
   "source": [
    "#### Ans:\n",
    "\n",
    "The coefficients of elastic net regression represent the linear relationship between the features and the target variable, adjusted by the regularization terms. The larger the absolute value of a coefficient, the stronger the effect of the corresponding feature on the target variable. The sign of a coefficient indicates the direction of the effect: positive for positive correlation, negative for negative correlation. The coefficients that are zero indicate that the corresponding features are not relevant for the model, and they are eliminated by the lasso penalty. Therefore, you can use the coefficients of elastic net regression to rank the features by their importance and select the ones that have non-zero coefficients."
   ]
  },
  {
   "attachments": {},
   "cell_type": "markdown",
   "metadata": {},
   "source": [
    "#### Q6. How do you handle missing values when using Elastic Net Regression?"
   ]
  },
  {
   "attachments": {},
   "cell_type": "markdown",
   "metadata": {},
   "source": [
    "#### Ans: Simple approaches include taking the average of the column and use that value, or if there is a heavy skew the median might be better. A better approach, you can perform regression or nearest neighbor imputation on the column to predict the missing values. Then continue on with your analysis/model."
   ]
  },
  {
   "attachments": {},
   "cell_type": "markdown",
   "metadata": {},
   "source": [
    "##### Q7. How do you use Elastic Net Regression for feature selection?"
   ]
  },
  {
   "attachments": {},
   "cell_type": "markdown",
   "metadata": {},
   "source": [
    "#### Ans:\n",
    "\n",
    "Elastic Net is a generalization of lasso and ridge regression (Zou and Hastie 2005). It combines the two penalties. \n",
    "Ridge penalty shrinks the coefficients of correlated predictors towards each other while the lasso tends to pick one and discard the others. So lasso estimates have a higher variance. However, ridge regression doesn’t have a variable selection property. The advantage of the elastic net is that it keeps the feature selection quality from the lasso penalty as well as the effectiveness of the ridge penalty. And it deals with highly correlated variables more effectively."
   ]
  },
  {
   "attachments": {},
   "cell_type": "markdown",
   "metadata": {},
   "source": [
    "#### Q8. How do you pickle and unpickle a trained Elastic Net Regression model in Python?"
   ]
  },
  {
   "attachments": {},
   "cell_type": "markdown",
   "metadata": {},
   "source": [
    "#### Ans: \n",
    "\n",
    "Pickling is the process whereby a Python object hierarchy is converted into a byte stream, and “unpickling” is the inverse operation, whereby a byte stream (from a binary file or bytes-like object) is converted back into an object hierarchy\n",
    "\n",
    "\n"
   ]
  },
  {
   "cell_type": "code",
   "execution_count": 4,
   "metadata": {},
   "outputs": [
    {
     "name": "stdout",
     "output_type": "stream",
     "text": [
      "                Name               Club\n",
      "0  Cristiano Ronaldo  Manchester United\n",
      "1       Lionel Messi                PSG\n",
      "2        Eden Hazard        Real Madrid\n",
      "3        Luis Suarez    Atletico Madrid\n",
      "4             Neymar                PSG\n",
      "                Name               Club\n",
      "0  Cristiano Ronaldo  Manchester United\n",
      "1       Lionel Messi                PSG\n",
      "2        Eden Hazard        Real Madrid\n",
      "3        Luis Suarez    Atletico Madrid\n",
      "4             Neymar                PSG\n"
     ]
    }
   ],
   "source": [
    "\n",
    "# Currently we are using a below data set , we can also use the Model data for Elastic net\n",
    "import pandas as pd\n",
    "\n",
    "athletes = {\n",
    "    \"Name\": [\"Cristiano Ronaldo\", \"Lionel Messi\", \"Eden Hazard\", \"Luis Suarez\", \"Neymar\"],        \n",
    "    \"Club\": [\"Manchester United\", \"PSG\", \"Real Madrid\", \"Atletico Madrid\", \"PSG\"]\n",
    "}\n",
    "\n",
    "df = pd.DataFrame(athletes)\n",
    "print(df)\n",
    "\n",
    "\n",
    "# Pikling  a file\n",
    "import pickle\n",
    "df = pd.DataFrame(athletes)\n",
    "\n",
    "athelets_df_file = open(\"athletes_df.txt\", \"wb\")\n",
    "pickle.dump(df, athelets_df_file)\n",
    "athelets_df_file.close()\n",
    "\n",
    "#Unpickling\n",
    "\n",
    "import pickle\n",
    "\n",
    "athletes_df_file = open(\"athletes_df.txt\", \"rb\")\n",
    "athletes = pickle.load(athletes_df_file)\n",
    "athletes_df_file.close()\n",
    "print(athletes)"
   ]
  },
  {
   "attachments": {},
   "cell_type": "markdown",
   "metadata": {},
   "source": [
    "#### Q9. What is the purpose of pickling a model in machine learning?"
   ]
  },
  {
   "attachments": {},
   "cell_type": "markdown",
   "metadata": {},
   "source": [
    "#### Ans: Pickle is a useful Python tool that allows you to save your ML models, to minimise lengthy re-training and allow you to share, commit, and re-load pre-trained machine learning models. Most data scientists working in ML will use Pickle or Joblib to save their ML model for future use.\n"
   ]
  },
  {
   "attachments": {},
   "cell_type": "markdown",
   "metadata": {},
   "source": []
  }
 ],
 "metadata": {
  "kernelspec": {
   "display_name": "Python 3",
   "language": "python",
   "name": "python3"
  },
  "language_info": {
   "codemirror_mode": {
    "name": "ipython",
    "version": 3
   },
   "file_extension": ".py",
   "mimetype": "text/x-python",
   "name": "python",
   "nbconvert_exporter": "python",
   "pygments_lexer": "ipython3",
   "version": "3.11.3"
  },
  "orig_nbformat": 4
 },
 "nbformat": 4,
 "nbformat_minor": 2
}
