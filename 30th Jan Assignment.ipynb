{
 "cells": [
  {
   "cell_type": "markdown",
   "id": "cd33ef14",
   "metadata": {},
   "source": [
    "#### Assingment Question link:\n",
    "\n",
    "https://drive.google.com/file/d/1hyD9pv5dlwP2dnIkvfvyw2CHSECrJw2x/view"
   ]
  },
  {
   "cell_type": "code",
   "execution_count": 1,
   "id": "0afc8b6b",
   "metadata": {},
   "outputs": [
    {
     "name": "stdout",
     "output_type": "stream",
     "text": [
      "Enter percernage marks: 89\n",
      "Your grade is B against percentage 89\n"
     ]
    }
   ],
   "source": [
    "#### Answer:\n",
    "\n",
    "#Q.1. Grade Finding\n",
    "\n",
    "Enter_Percentage_Marks = int(input(\"Enter percernage marks: \"))\n",
    "a =Enter_Percentage_Marks\n",
    "\n",
    "if a >90:\n",
    "    print(\"Your grade is A against percentage {}\".format(a))\n",
    "elif a >80 and a<=90:\n",
    "    print(\"Your grade is B against percentage {}\".format(a))\n",
    "elif a >60 and a<=80:\n",
    "    print(\"Your grade is C against percentage {}\".format(a))\n",
    "else:\n",
    "    print(\"Your grade is D against percentage {}\".format(a))\n"
   ]
  },
  {
   "cell_type": "code",
   "execution_count": 2,
   "id": "530e743b",
   "metadata": {},
   "outputs": [
    {
     "name": "stdout",
     "output_type": "stream",
     "text": [
      "Enter the Bike cost Price: 1000001\n",
      "Your Tax slab is 15% against Bike cost Price 1000001\n"
     ]
    }
   ],
   "source": [
    "#### Answer:\n",
    "\n",
    "#Q.2. Road Tax finding as per the Price of the bike\n",
    "\n",
    "Enter_Bike_Price  = int(input(\"Enter the Bike cost Price: \"))\n",
    "a =Enter_Bike_Price\n",
    "\n",
    "if a >100000:\n",
    "    print(\"Your Tax slab is 15% against Bike cost Price {}\".format(a))\n",
    "elif a >50000 and a<=100000:\n",
    "    print(\"Your Tax slab is 10% against Bike cost Price {}\".format(a))\n",
    "else:\n",
    "    print(\"Your Tax slab is 5% against Bike cost Price {}\".format(a))\n"
   ]
  },
  {
   "cell_type": "code",
   "execution_count": 3,
   "id": "b3f79a4a",
   "metadata": {},
   "outputs": [
    {
     "name": "stdout",
     "output_type": "stream",
     "text": [
      "Enter the city name: Agra\n",
      "Taj Mahal\n"
     ]
    }
   ],
   "source": [
    "#### Answer:\n",
    "\n",
    "#Q.3. Display Monument of the city\n",
    "\n",
    "Enter_City_Name  = str(input(\"Enter the city name: \"))\n",
    "a =Enter_City_Name\n",
    "Monument_name = {\"Delhi\": \"Redfort\" , \"Agra\":\"Taj Mahal\" , \"Jaipur\": \"Jal Mahal\"}\n",
    "b=Monument_name\n",
    "key_list  = list(b.keys())\n",
    "val_list = list(b.values())\n",
    "\n",
    "if a in key_list:\n",
    "    position = key_list.index(a)\n",
    "    print(val_list[position])\n",
    "else:\n",
    "    print(\"The City name is outside of the Dictonary\")\n"
   ]
  },
  {
   "cell_type": "code",
   "execution_count": 4,
   "id": "1c74efe9",
   "metadata": {},
   "outputs": [
    {
     "name": "stdout",
     "output_type": "stream",
     "text": [
      "Enter the Numbner: 10001\n",
      "3333\n",
      "1111\n",
      "370\n",
      "123\n",
      "41\n",
      "13\n",
      "4\n",
      "Total count number 6 times when divided by 3 and before the number is 10001 <=10\n"
     ]
    }
   ],
   "source": [
    "#### Answer:\n",
    "#Q.4 Count the no. of times a Number is dividecd by 3 before it is less than equal to 10.\n",
    "\n",
    "Enter_Number = int(input(\"Enter the Numbner: \"))\n",
    "num = Enter_Number\n",
    "count_num = 0\n",
    "\n",
    "while num != 0:\n",
    "    num = num // 3\n",
    "    print(num)\n",
    "    if num <=10:\n",
    "        break\n",
    "    count_num = count_num + 1\n",
    "print(\"Total count number {} times when divided by 3 and before the number is {} <=10\".format( count_num,Enter_Number))\n",
    "\n",
    "\n",
    "       \n",
    "    \n",
    "    \n",
    "    "
   ]
  },
  {
   "cell_type": "code",
   "execution_count": 5,
   "id": "f527d0aa",
   "metadata": {},
   "outputs": [
    {
     "name": "stdout",
     "output_type": "stream",
     "text": [
      "Enter number of rows : 6\n",
      "* \n",
      "* * \n",
      "* * * \n",
      "* * * * \n",
      "* * * * * \n",
      "* * * * * * \n"
     ]
    }
   ],
   "source": [
    "##### Answer\n",
    "# Q.6 Pattern 1\n",
    "\n",
    "n = int(input('Enter number of rows : '))\n",
    " \n",
    "i = 1\n",
    "while i <= n :\n",
    "    j = 1\n",
    "    while j <= i:\n",
    "        print(\"*\", end = \" \")\n",
    "        j += 1\n",
    "    print()\n",
    "    i += 1"
   ]
  },
  {
   "cell_type": "code",
   "execution_count": 6,
   "id": "45d5dce2",
   "metadata": {},
   "outputs": [
    {
     "name": "stdout",
     "output_type": "stream",
     "text": [
      "Enter number of rows : 6\n",
      "* * * * * * \n",
      "* * * * * \n",
      "* * * * \n",
      "* * * \n",
      "* * \n",
      "* \n"
     ]
    }
   ],
   "source": [
    "##### Answer\n",
    "# Q.6 Pattern 2\n",
    "\n",
    "n = int(input('Enter number of rows : '))\n",
    " \n",
    "i = 1\n",
    "while i <= n :\n",
    "    j = n\n",
    "    while j >= i:\n",
    "        print(\"*\", end = \" \")\n",
    "        j -= 1\n",
    "    print()\n",
    "    i += 1\n"
   ]
  },
  {
   "cell_type": "code",
   "execution_count": 7,
   "id": "f9f84dd5",
   "metadata": {},
   "outputs": [
    {
     "name": "stdout",
     "output_type": "stream",
     "text": [
      "Enter number of rows : 6\n",
      "  1 \n",
      "  2   3 \n",
      "  4   5   6 \n",
      "  7   8   9  10 \n",
      " 11  12  13  14  15 \n",
      " 16  17  18  19  20  21 \n"
     ]
    }
   ],
   "source": [
    "##### Answer\n",
    "# Q.6 Pattern 3\n",
    "\n",
    "n = int(input('Enter number of rows : '))\n",
    " \n",
    "k = 1\n",
    "i = 1\n",
    "while i <= n :\n",
    "    j = 1\n",
    "    while j <= i:\n",
    "        print(\"{:3d}\".format(k), end = \" \")\n",
    "        j += 1\n",
    "        k += 1\n",
    "    print()\n",
    "    i += 1"
   ]
  },
  {
   "cell_type": "code",
   "execution_count": 8,
   "id": "2bff8435",
   "metadata": {},
   "outputs": [
    {
     "name": "stdout",
     "output_type": "stream",
     "text": [
      "Enter number of rows: 6\n",
      "          * \n",
      "        * * * \n",
      "      * * * * * \n",
      "    * * * * * * * \n",
      "  * * * * * * * * * \n",
      "* * * * * * * * * * * \n"
     ]
    }
   ],
   "source": [
    "##### Answer\n",
    "# Q.6 Pattern 4\n",
    "\n",
    "rows = int(input(\"Enter number of rows: \"))\n",
    "\n",
    "k = 0\n",
    "\n",
    "for i in range(1, rows+1):\n",
    "    for space in range(1, (rows-i)+1):\n",
    "        print(end=\"  \")\n",
    "   \n",
    "    while k!=(2*i-1):\n",
    "        print(\"* \", end=\"\")\n",
    "        k += 1\n",
    "   \n",
    "    k = 0\n",
    "    print()"
   ]
  },
  {
   "cell_type": "code",
   "execution_count": 9,
   "id": "a05bad7f",
   "metadata": {},
   "outputs": [
    {
     "name": "stdout",
     "output_type": "stream",
     "text": [
      "Reserse Order of an Number : from (10 to 1)\n",
      "10\n",
      "9\n",
      "8\n",
      "7\n",
      "6\n",
      "5\n",
      "4\n",
      "3\n",
      "2\n",
      "1\n",
      "Reserse Orderering of a Number completed\n"
     ]
    }
   ],
   "source": [
    "#7,8 Reverse order of a number from 10 to 1.\n",
    "num = 10\n",
    "print(\"Reserse Order of an Number : from ({} to 1)\".format(num))\n",
    "while num != 0:\n",
    "    print(\"{}\".format(num))\n",
    "    num = num-1\n",
    "    if num == 0:\n",
    "        break\n",
    "print(\"Reserse Orderering of a Number completed\")\n"
   ]
  },
  {
   "cell_type": "code",
   "execution_count": null,
   "id": "14229ccf",
   "metadata": {},
   "outputs": [],
   "source": []
  },
  {
   "cell_type": "code",
   "execution_count": null,
   "id": "ddf78780",
   "metadata": {},
   "outputs": [],
   "source": []
  }
 ],
 "metadata": {
  "kernelspec": {
   "display_name": "Python 3 (ipykernel)",
   "language": "python",
   "name": "python3"
  },
  "language_info": {
   "codemirror_mode": {
    "name": "ipython",
    "version": 3
   },
   "file_extension": ".py",
   "mimetype": "text/x-python",
   "name": "python",
   "nbconvert_exporter": "python",
   "pygments_lexer": "ipython3",
   "version": "3.9.13"
  }
 },
 "nbformat": 4,
 "nbformat_minor": 5
}
