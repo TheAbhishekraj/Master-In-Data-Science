{
 "cells": [
  {
   "cell_type": "markdown",
   "id": "3f46ec25-7760-45d8-bff4-b063901bc300",
   "metadata": {},
   "source": [
    "#### 1. What are the characteristics of the tuples? Is tuple immutable?"
   ]
  },
  {
   "cell_type": "markdown",
   "id": "ada25875-9c52-4384-b07c-82d9c4879fad",
   "metadata": {},
   "source": [
    " Answer :These tuples are an ordered collection of elements of different data types. Furthermore, we represent them by writing \n",
    " the elements inside the parenthesis separated by commas.Yes, We can also define tuples as lists that we cannot change. \n",
    " Therefore, we can call them immutable tuples."
   ]
  },
  {
   "cell_type": "markdown",
   "id": "0a65b9e6-f6d9-4ea8-85d8-d1966f3abff7",
   "metadata": {},
   "source": [
    " #### 2.  What are the two tuple methods in python? Give an example of each method. Give a reason why tuples have only two in-built methods as compared to Lists?"
   ]
  },
  {
   "cell_type": "markdown",
   "id": "80dcdc40-1d0c-4c77-90b3-52ab8d2f5826",
   "metadata": {},
   "source": [
    "Answer: here are only two tuple methods count() and index() that a tuple object can call.\n",
    "example of the each method shown as below :\n",
    " tuples have only two in-built methods as compared to Lists because  tuples are immutable, meaning you cannot \n",
    " change their contents after they are created. The length of tuples is also fixed"
   ]
  },
  {
   "cell_type": "code",
   "execution_count": 1,
   "id": "c22b38b5-e956-4891-9aa2-28cd6de97e91",
   "metadata": {},
   "outputs": [
    {
     "name": "stdout",
     "output_type": "stream",
     "text": [
      "1\n",
      "2\n"
     ]
    }
   ],
   "source": [
    "example = (1,2,3,4,'a','b','c')\n",
    "### Count\n",
    "c=example.count(4)\n",
    "print(c)\n",
    "### Index\n",
    "i=example.index(3)\n",
    "print(i)\n"
   ]
  },
  {
   "cell_type": "code",
   "execution_count": 2,
   "id": "95eea0d9-5891-4497-89be-701d03c7903e",
   "metadata": {},
   "outputs": [],
   "source": [
    " \n",
    "### Q3.  Which collection datatypes in python do not allow duplicate items? Write a code using a set to remove \n",
    "###      duplicates from the given list.\n",
    "List = [1, 1, 1, 2, 1, 3, 1, 4, 2, 1, 2, 2, 2, 3, 2, 4, 3, 1, 3, 2, 3, 3, 3, 4, 4, 1, 4, 2, 4, 3, 4, 4]\n"
   ]
  },
  {
   "cell_type": "code",
   "execution_count": 3,
   "id": "726adfc6-9019-4dde-850c-3ddd7b72df85",
   "metadata": {},
   "outputs": [
    {
     "name": "stdout",
     "output_type": "stream",
     "text": [
      "[1, 2, 3, 4]\n"
     ]
    }
   ],
   "source": [
    "####  Answer : A set is unique in Python. It does not allow duplicates .\n",
    "# below code to remove duplicate from sets of given list.\n",
    "print(list(set(List)))\n",
    "#Another method\n",
    "# Python code to remove duplicate elements\n",
    "def Remove(duplicate):\n",
    "    final_list = []\n",
    "    for num in duplicate:\n",
    "        if num not in final_list:\n",
    "            final_list.append(num)\n",
    "    return final_list\n",
    "     \n",
    "# Driver Code\n",
    "duplicate = list\n",
    "\n",
    "\n"
   ]
  },
  {
   "cell_type": "markdown",
   "id": "68b71a84-eb15-435e-a5eb-ec8ed465dcfc",
   "metadata": {},
   "source": [
    "#### Q4. Explain the difference between the union() and update() methods for a set. Give an example of each method."
   ]
  },
  {
   "cell_type": "code",
   "execution_count": 4,
   "id": "5119834d-d8f4-4dbb-9cf6-13a8cee9e3e2",
   "metadata": {},
   "outputs": [
    {
     "name": "stdout",
     "output_type": "stream",
     "text": [
      "{1, 2, 3, 4, 5, 6}\n"
     ]
    },
    {
     "data": {
      "text/plain": [
       "{1, 2, 3, 4, 5, 6}"
      ]
     },
     "execution_count": 4,
     "metadata": {},
     "output_type": "execute_result"
    }
   ],
   "source": [
    "####  Answer : update() adds all missing elements to the set on which it is called whereas set. union() creates a new set.\n",
    "set1 = {1,2,3,4}\n",
    "set2 = {2,3,4,5,6}\n",
    "# Union\n",
    "print(set1.union(set2))\n",
    "# Update\n",
    "set1.update(set2)\n",
    "set1\n",
    "\n"
   ]
  },
  {
   "cell_type": "markdown",
   "id": "59288b85-997d-40dd-a7a6-bf7daca5df64",
   "metadata": {},
   "source": [
    "####  Q5. What is a dictionary? Give an example. Also, state whether a dictionary is ordered or unordered."
   ]
  },
  {
   "cell_type": "code",
   "execution_count": 5,
   "id": "4e4c5323-7e1d-4a80-a1c5-38b0db1f3574",
   "metadata": {},
   "outputs": [
    {
     "name": "stdout",
     "output_type": "stream",
     "text": [
      "{'brand': 'Ford', 'model': 'Mustang', 'year': 1964}\n"
     ]
    }
   ],
   "source": [
    " ####  Answer :  Dictionaries are used to store data values in key:value pairs.A dictionary is a collection which is ordered*, changeable and do not allow duplicates.\n",
    "mydict = { \"brand\": \"Ford\",\"model\": \"Mustang\",\"year\": 1964}\n",
    "print(mydict)"
   ]
  },
  {
   "cell_type": "markdown",
   "id": "2fc781f4-6cb2-432e-8b6f-c845a664a2cb",
   "metadata": {},
   "source": [
    "####  Q6. Can we create a nested dictionary? If so, please give an example by creating a simple one-level nested dictionary"
   ]
  },
  {
   "cell_type": "code",
   "execution_count": 6,
   "id": "b8c36e48-c522-417b-8a80-8df843345019",
   "metadata": {},
   "outputs": [
    {
     "name": "stdout",
     "output_type": "stream",
     "text": [
      "{'dict1': {'key_A': 'value_A'}, 'dict2': {'key_B': 'value_B'}}\n",
      "{'brand': {'Ford': 'Tata'}, 'model': {'Mustang': 'Safari'}, 'year': {1964: 2022}}\n"
     ]
    }
   ],
   "source": [
    " ####  Answer : A nested dictionary is created the same way a normal dictionary is created. The only difference is that each value is another dictionary.\n",
    "        \n",
    "# example 1: \n",
    "nested_dict = { 'dict1': {'key_A': 'value_A'},\n",
    "                'dict2': {'key_B': 'value_B'}}\n",
    "print(nested_dict)\n",
    "\n",
    "# example 2:\n",
    "thisdict = {\"brand\": {\"Ford\" : \"Tata\"},\"model\": {\"Mustang\" : \"Safari\"},\"year\": {1964 : 2022}\n",
    "}\n",
    "print(thisdict)\n"
   ]
  },
  {
   "cell_type": "markdown",
   "id": "33b77f27-9f23-4fff-8958-1fb8bdf33afa",
   "metadata": {},
   "source": [
    "#### Q7. Using setdefault() method, create key named topics in the given dictionary and also add the value of the key as this list ['Python', 'Machine Learning’, 'Deep Learning']\n",
    "dict1 = {'language' : 'Python', 'course': 'Data Science Masters'}    "
   ]
  },
  {
   "cell_type": "code",
   "execution_count": 7,
   "id": "c3383953-3683-4a23-a737-498cad259046",
   "metadata": {},
   "outputs": [
    {
     "name": "stdout",
     "output_type": "stream",
     "text": [
      "{'language': 'Python', 'course': 'Data Science Masters'}\n",
      "{'language': 'Python', 'course': 'Data Science Masters', 'topics': ['Python', 'machine Learning', 'Deep learning']}\n"
     ]
    }
   ],
   "source": [
    "####  Answer :\n",
    "dict1 = {'language' : 'Python', 'course': 'Data Science Masters'} \n",
    "print(dict1)\n",
    "values= [\"Python\",\"machine Learning\", \"Deep learning\"]\n",
    "dict1.setdefault(\"topics\", values)\n",
    "print(dict1)\n",
    "\n"
   ]
  },
  {
   "cell_type": "markdown",
   "id": "a1b77494-f476-429d-bb00-ea262191a89d",
   "metadata": {},
   "source": [
    "#### Q8. What are the three view objects in dictionaries? Use the three in-built methods in python to display \n",
    "these three view objects for the given dictionary.\n",
    "dict1 = {'Sport': 'Cricket' , 'Teams': ['India', 'Australia', 'England', 'South Africa', 'Sri Lanka', 'New Zealand']}"
   ]
  },
  {
   "cell_type": "code",
   "execution_count": 21,
   "id": "6a0206bd-5023-4686-aa94-d22504261421",
   "metadata": {},
   "outputs": [
    {
     "name": "stdout",
     "output_type": "stream",
     "text": [
      "Keys- dict_keys(['Sport', 'Teams'])\n",
      "values- dict_values(['Cricket', ['India', 'Australia', 'England', 'South Africa', 'Sri Lanka', 'New Zealand']])\n",
      "Item- dict_items([('Sport', 'Cricket'), ('Teams', ['India', 'Australia', 'England', 'South Africa', 'Sri Lanka', 'New Zealand'])])\n"
     ]
    }
   ],
   "source": [
    "####  Answer : The main view objects of dictionary in python are keys, values and items\n",
    "dict1 = {'Sport': 'Cricket' , 'Teams': ['India', 'Australia', 'England', 'South Africa', 'Sri Lanka', 'New Zealand']}\n",
    "\n",
    "#Keys\n",
    "print(\"Keys-\", d.keys())\n",
    "print(\"values-\",dict1.values())\n",
    "print(\"Item-\",dict1.items())"
   ]
  },
  {
   "cell_type": "code",
   "execution_count": 13,
   "id": "2544c64f-a163-49d7-ac4a-34c28e5c378f",
   "metadata": {},
   "outputs": [
    {
     "data": {
      "text/plain": [
       "dict_keys(['Sport', 'Teams'])"
      ]
     },
     "execution_count": 13,
     "metadata": {},
     "output_type": "execute_result"
    }
   ],
   "source": []
  },
  {
   "cell_type": "code",
   "execution_count": null,
   "id": "ba9b5b37-df16-429c-bd41-3ebda0d1a0cd",
   "metadata": {},
   "outputs": [],
   "source": []
  }
 ],
 "metadata": {
  "kernelspec": {
   "display_name": "Python 3 (ipykernel)",
   "language": "python",
   "name": "python3"
  },
  "language_info": {
   "codemirror_mode": {
    "name": "ipython",
    "version": 3
   },
   "file_extension": ".py",
   "mimetype": "text/x-python",
   "name": "python",
   "nbconvert_exporter": "python",
   "pygments_lexer": "ipython3",
   "version": "3.10.8"
  }
 },
 "nbformat": 4,
 "nbformat_minor": 5
}
